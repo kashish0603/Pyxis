{
 "cells": [
  {
   "cell_type": "markdown",
   "id": "330e4d6f",
   "metadata": {},
   "source": [
    "* name \n",
    "* gender\n",
    "* race \n",
    "* age \n",
    "* phone number \n",
    "* dob \n",
    "* aadhar \n",
    "* email \n",
    "* address \n",
    "* Fingerprints "
   ]
  },
  {
   "cell_type": "code",
   "execution_count": 2,
   "id": "21a9b6ad",
   "metadata": {},
   "outputs": [],
   "source": [
    "import pandas as pd\n",
    "import random_address\n",
    "import numpy as np"
   ]
  },
  {
   "cell_type": "code",
   "execution_count": 3,
   "id": "341e3d7d",
   "metadata": {},
   "outputs": [],
   "source": [
    "name_male = pd.read_csv(\"D:\\VIIT\\ML\\SIH data\\SIH_Pyxis\\sai\\Indian-Male-Names.csv\")"
   ]
  },
  {
   "cell_type": "code",
   "execution_count": 4,
   "id": "2c34f165",
   "metadata": {},
   "outputs": [
    {
     "data": {
      "text/html": [
       "<div>\n",
       "<style scoped>\n",
       "    .dataframe tbody tr th:only-of-type {\n",
       "        vertical-align: middle;\n",
       "    }\n",
       "\n",
       "    .dataframe tbody tr th {\n",
       "        vertical-align: top;\n",
       "    }\n",
       "\n",
       "    .dataframe thead th {\n",
       "        text-align: right;\n",
       "    }\n",
       "</style>\n",
       "<table border=\"1\" class=\"dataframe\">\n",
       "  <thead>\n",
       "    <tr style=\"text-align: right;\">\n",
       "      <th></th>\n",
       "      <th>name</th>\n",
       "      <th>gender</th>\n",
       "      <th>race</th>\n",
       "    </tr>\n",
       "  </thead>\n",
       "  <tbody>\n",
       "    <tr>\n",
       "      <th>0</th>\n",
       "      <td>barjraj</td>\n",
       "      <td>m</td>\n",
       "      <td>indian</td>\n",
       "    </tr>\n",
       "    <tr>\n",
       "      <th>1</th>\n",
       "      <td>ramdin verma</td>\n",
       "      <td>m</td>\n",
       "      <td>indian</td>\n",
       "    </tr>\n",
       "    <tr>\n",
       "      <th>2</th>\n",
       "      <td>sharat chandran</td>\n",
       "      <td>m</td>\n",
       "      <td>indian</td>\n",
       "    </tr>\n",
       "    <tr>\n",
       "      <th>3</th>\n",
       "      <td>birender mandal</td>\n",
       "      <td>m</td>\n",
       "      <td>indian</td>\n",
       "    </tr>\n",
       "    <tr>\n",
       "      <th>4</th>\n",
       "      <td>amit</td>\n",
       "      <td>m</td>\n",
       "      <td>indian</td>\n",
       "    </tr>\n",
       "  </tbody>\n",
       "</table>\n",
       "</div>"
      ],
      "text/plain": [
       "              name gender    race\n",
       "0          barjraj      m  indian\n",
       "1     ramdin verma      m  indian\n",
       "2  sharat chandran      m  indian\n",
       "3  birender mandal      m  indian\n",
       "4             amit      m  indian"
      ]
     },
     "execution_count": 4,
     "metadata": {},
     "output_type": "execute_result"
    }
   ],
   "source": [
    "name_male.head()"
   ]
  },
  {
   "cell_type": "code",
   "execution_count": 5,
   "id": "f7a1a27b",
   "metadata": {},
   "outputs": [],
   "source": [
    "name_female =  pd.read_csv(\"D:\\VIIT\\ML\\SIH data\\SIH_Pyxis\\sai\\Indian-Female-Names.csv\")"
   ]
  },
  {
   "cell_type": "code",
   "execution_count": 6,
   "id": "73c5e3c9",
   "metadata": {},
   "outputs": [
    {
     "data": {
      "text/html": [
       "<div>\n",
       "<style scoped>\n",
       "    .dataframe tbody tr th:only-of-type {\n",
       "        vertical-align: middle;\n",
       "    }\n",
       "\n",
       "    .dataframe tbody tr th {\n",
       "        vertical-align: top;\n",
       "    }\n",
       "\n",
       "    .dataframe thead th {\n",
       "        text-align: right;\n",
       "    }\n",
       "</style>\n",
       "<table border=\"1\" class=\"dataframe\">\n",
       "  <thead>\n",
       "    <tr style=\"text-align: right;\">\n",
       "      <th></th>\n",
       "      <th>name</th>\n",
       "      <th>gender</th>\n",
       "      <th>race</th>\n",
       "    </tr>\n",
       "  </thead>\n",
       "  <tbody>\n",
       "    <tr>\n",
       "      <th>0</th>\n",
       "      <td>shivani</td>\n",
       "      <td>f</td>\n",
       "      <td>indian</td>\n",
       "    </tr>\n",
       "    <tr>\n",
       "      <th>1</th>\n",
       "      <td>isha</td>\n",
       "      <td>f</td>\n",
       "      <td>indian</td>\n",
       "    </tr>\n",
       "    <tr>\n",
       "      <th>2</th>\n",
       "      <td>smt shyani devi</td>\n",
       "      <td>f</td>\n",
       "      <td>indian</td>\n",
       "    </tr>\n",
       "    <tr>\n",
       "      <th>3</th>\n",
       "      <td>divya</td>\n",
       "      <td>f</td>\n",
       "      <td>indian</td>\n",
       "    </tr>\n",
       "    <tr>\n",
       "      <th>4</th>\n",
       "      <td>mansi</td>\n",
       "      <td>f</td>\n",
       "      <td>indian</td>\n",
       "    </tr>\n",
       "    <tr>\n",
       "      <th>...</th>\n",
       "      <td>...</td>\n",
       "      <td>...</td>\n",
       "      <td>...</td>\n",
       "    </tr>\n",
       "    <tr>\n",
       "      <th>15377</th>\n",
       "      <td>saroj devi</td>\n",
       "      <td>f</td>\n",
       "      <td>indian</td>\n",
       "    </tr>\n",
       "    <tr>\n",
       "      <th>15378</th>\n",
       "      <td>naina @ geeta</td>\n",
       "      <td>f</td>\n",
       "      <td>indian</td>\n",
       "    </tr>\n",
       "    <tr>\n",
       "      <th>15379</th>\n",
       "      <td>manju d/0 baboo lal jatav</td>\n",
       "      <td>f</td>\n",
       "      <td>indian</td>\n",
       "    </tr>\n",
       "    <tr>\n",
       "      <th>15380</th>\n",
       "      <td>shivani</td>\n",
       "      <td>f</td>\n",
       "      <td>indian</td>\n",
       "    </tr>\n",
       "    <tr>\n",
       "      <th>15381</th>\n",
       "      <td>nayna</td>\n",
       "      <td>f</td>\n",
       "      <td>indian</td>\n",
       "    </tr>\n",
       "  </tbody>\n",
       "</table>\n",
       "<p>15382 rows × 3 columns</p>\n",
       "</div>"
      ],
      "text/plain": [
       "                            name gender    race\n",
       "0                        shivani      f  indian\n",
       "1                           isha      f  indian\n",
       "2                smt shyani devi      f  indian\n",
       "3                          divya      f  indian\n",
       "4                          mansi      f  indian\n",
       "...                          ...    ...     ...\n",
       "15377                 saroj devi      f  indian\n",
       "15378              naina @ geeta      f  indian\n",
       "15379  manju d/0 baboo lal jatav      f  indian\n",
       "15380                    shivani      f  indian\n",
       "15381                      nayna      f  indian\n",
       "\n",
       "[15382 rows x 3 columns]"
      ]
     },
     "execution_count": 6,
     "metadata": {},
     "output_type": "execute_result"
    }
   ],
   "source": [
    "name_female"
   ]
  },
  {
   "cell_type": "code",
   "execution_count": 7,
   "id": "f441f68a",
   "metadata": {},
   "outputs": [],
   "source": [
    "nm = name_male[:300]"
   ]
  },
  {
   "cell_type": "code",
   "execution_count": 8,
   "id": "5ff1be01",
   "metadata": {},
   "outputs": [],
   "source": [
    "nf = name_female[:300]"
   ]
  },
  {
   "cell_type": "code",
   "execution_count": 9,
   "id": "4db31b67",
   "metadata": {},
   "outputs": [],
   "source": [
    "name = pd.concat([nm,nf])"
   ]
  },
  {
   "cell_type": "code",
   "execution_count": 10,
   "id": "37b8e233",
   "metadata": {},
   "outputs": [
    {
     "data": {
      "text/plain": [
       "pandas.core.frame.DataFrame"
      ]
     },
     "execution_count": 10,
     "metadata": {},
     "output_type": "execute_result"
    }
   ],
   "source": [
    "type(name)"
   ]
  },
  {
   "cell_type": "code",
   "execution_count": 11,
   "id": "6fabfa3b",
   "metadata": {},
   "outputs": [],
   "source": [
    "name = np.array(name)"
   ]
  },
  {
   "cell_type": "code",
   "execution_count": 12,
   "id": "81a52615",
   "metadata": {},
   "outputs": [],
   "source": [
    "name = pd.DataFrame(name,columns=[\"name\",\"gender\",\"race\"])"
   ]
  },
  {
   "cell_type": "code",
   "execution_count": 13,
   "id": "ca151ade",
   "metadata": {},
   "outputs": [
    {
     "data": {
      "text/plain": [
       "pandas.core.frame.DataFrame"
      ]
     },
     "execution_count": 13,
     "metadata": {},
     "output_type": "execute_result"
    }
   ],
   "source": [
    "type(name)"
   ]
  },
  {
   "cell_type": "code",
   "execution_count": 14,
   "id": "b1fda5c0",
   "metadata": {},
   "outputs": [],
   "source": [
    "name = name.sample(frac = 1)\n"
   ]
  },
  {
   "cell_type": "code",
   "execution_count": 15,
   "id": "6d569f50",
   "metadata": {},
   "outputs": [
    {
     "data": {
      "text/html": [
       "<div>\n",
       "<style scoped>\n",
       "    .dataframe tbody tr th:only-of-type {\n",
       "        vertical-align: middle;\n",
       "    }\n",
       "\n",
       "    .dataframe tbody tr th {\n",
       "        vertical-align: top;\n",
       "    }\n",
       "\n",
       "    .dataframe thead th {\n",
       "        text-align: right;\n",
       "    }\n",
       "</style>\n",
       "<table border=\"1\" class=\"dataframe\">\n",
       "  <thead>\n",
       "    <tr style=\"text-align: right;\">\n",
       "      <th></th>\n",
       "      <th>name</th>\n",
       "      <th>gender</th>\n",
       "      <th>race</th>\n",
       "    </tr>\n",
       "  </thead>\n",
       "  <tbody>\n",
       "    <tr>\n",
       "      <th>28</th>\n",
       "      <td>punit khandelwal</td>\n",
       "      <td>m</td>\n",
       "      <td>indian</td>\n",
       "    </tr>\n",
       "    <tr>\n",
       "      <th>581</th>\n",
       "      <td>neha</td>\n",
       "      <td>f</td>\n",
       "      <td>indian</td>\n",
       "    </tr>\n",
       "    <tr>\n",
       "      <th>109</th>\n",
       "      <td>rahul sharma</td>\n",
       "      <td>m</td>\n",
       "      <td>indian</td>\n",
       "    </tr>\n",
       "    <tr>\n",
       "      <th>583</th>\n",
       "      <td>tripti</td>\n",
       "      <td>f</td>\n",
       "      <td>indian</td>\n",
       "    </tr>\n",
       "    <tr>\n",
       "      <th>330</th>\n",
       "      <td>gulshan</td>\n",
       "      <td>f</td>\n",
       "      <td>indian</td>\n",
       "    </tr>\n",
       "  </tbody>\n",
       "</table>\n",
       "</div>"
      ],
      "text/plain": [
       "                 name gender    race\n",
       "28   punit khandelwal      m  indian\n",
       "581              neha      f  indian\n",
       "109      rahul sharma      m  indian\n",
       "583            tripti      f  indian\n",
       "330           gulshan      f  indian"
      ]
     },
     "execution_count": 15,
     "metadata": {},
     "output_type": "execute_result"
    }
   ],
   "source": [
    "name.head()"
   ]
  },
  {
   "cell_type": "code",
   "execution_count": 16,
   "id": "f5f58a27",
   "metadata": {},
   "outputs": [],
   "source": [
    "add = random_address.real_random_address_by_state(\"CA\")"
   ]
  },
  {
   "cell_type": "code",
   "execution_count": 17,
   "id": "7e867d1f",
   "metadata": {},
   "outputs": [
    {
     "data": {
      "text/plain": [
       "{'address1': '2 Sotelo Avenue',\n",
       " 'address2': '',\n",
       " 'city': 'Piedmont',\n",
       " 'state': 'CA',\n",
       " 'postalCode': '94611',\n",
       " 'coordinates': {'lat': 37.820272, 'lng': -122.2195409}}"
      ]
     },
     "execution_count": 17,
     "metadata": {},
     "output_type": "execute_result"
    }
   ],
   "source": [
    "add"
   ]
  },
  {
   "cell_type": "code",
   "execution_count": 18,
   "id": "546f2c83",
   "metadata": {},
   "outputs": [],
   "source": [
    "import random"
   ]
  },
  {
   "cell_type": "code",
   "execution_count": 19,
   "id": "ad6056e2",
   "metadata": {},
   "outputs": [],
   "source": [
    "phno = []"
   ]
  },
  {
   "cell_type": "code",
   "execution_count": 20,
   "id": "05663568",
   "metadata": {},
   "outputs": [],
   "source": [
    "for i in range(600):\n",
    "    phno.append(random.randint(1000000000,9999999999))"
   ]
  },
  {
   "cell_type": "code",
   "execution_count": 21,
   "id": "71eefcb8",
   "metadata": {},
   "outputs": [],
   "source": [
    "phone_no = np.array(phno)"
   ]
  },
  {
   "cell_type": "code",
   "execution_count": 22,
   "id": "a85b55db",
   "metadata": {},
   "outputs": [],
   "source": [
    "phone_no = pd.DataFrame(phone_no,columns=[\"phone_name\"])"
   ]
  },
  {
   "cell_type": "code",
   "execution_count": 1,
   "id": "b7cfd721",
   "metadata": {},
   "outputs": [],
   "source": [
    "dob = []"
   ]
  },
  {
   "cell_type": "code",
   "execution_count": 2,
   "id": "24f661fa",
   "metadata": {},
   "outputs": [],
   "source": [
    "import pandas as pd\n",
    "import numpy as np\n",
    "from datetime import date, timedelta\n",
    "from random import choices\n",
    "test_date1, test_date2 = date(1922, 1,1 ), date(2022, 1, 1)\n",
    "K = 600\n",
    "res_dates = [test_date1]\n",
    "while test_date1 != test_date2:\n",
    "    test_date1 += timedelta(days=1)\n",
    "    res_dates.append(test_date1)\n",
    "res = choices(res_dates, k=K)\n",
    "dob.append(res)"
   ]
  },
  {
   "cell_type": "code",
   "execution_count": null,
   "id": "301b6524",
   "metadata": {},
   "outputs": [],
   "source": [
    "phone_no.head()"
   ]
  },
  {
   "cell_type": "code",
   "execution_count": null,
   "id": "b83a9d4f",
   "metadata": {},
   "outputs": [],
   "source": [
    "from datetime import datetime"
   ]
  },
  {
   "cell_type": "code",
   "execution_count": null,
   "id": "2ded2149",
   "metadata": {},
   "outputs": [],
   "source": [
    "dob_year = []\n",
    "dob_month = []\n",
    "dob_day = []\n",
    "dob_yr = []"
   ]
  },
  {
   "cell_type": "code",
   "execution_count": null,
   "id": "5370a2e7",
   "metadata": {},
   "outputs": [],
   "source": [
    "for i in range(600):\n",
    "\n",
    "    year = dob[0][i].strftime(\"%Y\")\n",
    "    month = dob[0][i].strftime(\"%m\")\n",
    "    day = dob[0][i].strftime(\"%d\")\n",
    "    dob_yr.append(year)\n",
    "    dob_month.append(month)\n",
    "    dob_day.append(day)"
   ]
  },
  {
   "cell_type": "code",
   "execution_count": null,
   "id": "b0ce194f",
   "metadata": {},
   "outputs": [],
   "source": [
    "dob_year = np.array(dob_yr)\n",
    "dob_month = np.array(dob_month)\n",
    "dob_day = np.array(dob_day)"
   ]
  },
  {
   "cell_type": "code",
   "execution_count": null,
   "id": "6c0c19f4",
   "metadata": {},
   "outputs": [],
   "source": [
    "dob_year = pd.DataFrame(dob_year,columns=[\"dob_year\"])\n",
    "dob_month = pd.DataFrame(dob_month,columns=[\"dob_year\"])\n",
    "dob_day = pd.DataFrame(dob_day,columns=[\"dob_year\"])"
   ]
  },
  {
   "cell_type": "code",
   "execution_count": null,
   "id": "d1f45a02",
   "metadata": {},
   "outputs": [],
   "source": [
    "dob_year.head()"
   ]
  },
  {
   "cell_type": "code",
   "execution_count": null,
   "id": "306a2509",
   "metadata": {},
   "outputs": [],
   "source": [
    "age =[]\n",
    "for i in dob_yr:\n",
    "    age.append(int((date.today().year-int(i))))"
   ]
  },
  {
   "cell_type": "code",
   "execution_count": null,
   "id": "cd29ee8b",
   "metadata": {},
   "outputs": [],
   "source": [
    "type(age[10])"
   ]
  },
  {
   "cell_type": "code",
   "execution_count": null,
   "id": "6836c75e",
   "metadata": {},
   "outputs": [],
   "source": [
    "age = np.array(age)\n",
    "age = pd.DataFrame(age,columns=[\"age\"])"
   ]
  },
  {
   "cell_type": "code",
   "execution_count": null,
   "id": "839871c5",
   "metadata": {},
   "outputs": [],
   "source": [
    "age.head()"
   ]
  }
 ],
 "metadata": {
  "kernelspec": {
   "display_name": "Python 3",
   "language": "python",
   "name": "python3"
  },
  "language_info": {
   "codemirror_mode": {
    "name": "ipython",
    "version": 3
   },
   "file_extension": ".py",
   "mimetype": "text/x-python",
   "name": "python",
   "nbconvert_exporter": "python",
   "pygments_lexer": "ipython3",
   "version": "3.8.8"
  }
 },
 "nbformat": 4,
 "nbformat_minor": 5
}
