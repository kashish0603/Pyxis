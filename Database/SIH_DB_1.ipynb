{
 "cells": [
  {
   "cell_type": "markdown",
   "id": "330e4d6f",
   "metadata": {},
   "source": [
    "* name \n",
    "* gender\n",
    "* race \n",
    "* age \n",
    "* phone number \n",
    "* dob \n",
    "* aadhar \n",
    "* email \n",
    "* address \n",
    "* Fingerprints "
   ]
  },
  {
   "cell_type": "code",
   "execution_count": 1,
   "id": "21a9b6ad",
   "metadata": {},
   "outputs": [],
   "source": [
    "import pandas as pd\n",
    "import random_address\n",
    "import numpy as np"
   ]
  },
  {
   "cell_type": "code",
   "execution_count": 2,
   "id": "341e3d7d",
   "metadata": {},
   "outputs": [],
   "source": [
    "name_male = pd.read_csv(\"D:\\VIIT\\ML\\SIH data\\SIH_Pyxis\\sai\\Indian-Male-Names.csv\")"
   ]
  },
  {
   "cell_type": "code",
   "execution_count": 3,
   "id": "2c34f165",
   "metadata": {},
   "outputs": [
    {
     "data": {
      "text/html": [
       "<div>\n",
       "<style scoped>\n",
       "    .dataframe tbody tr th:only-of-type {\n",
       "        vertical-align: middle;\n",
       "    }\n",
       "\n",
       "    .dataframe tbody tr th {\n",
       "        vertical-align: top;\n",
       "    }\n",
       "\n",
       "    .dataframe thead th {\n",
       "        text-align: right;\n",
       "    }\n",
       "</style>\n",
       "<table border=\"1\" class=\"dataframe\">\n",
       "  <thead>\n",
       "    <tr style=\"text-align: right;\">\n",
       "      <th></th>\n",
       "      <th>name</th>\n",
       "      <th>gender</th>\n",
       "      <th>race</th>\n",
       "    </tr>\n",
       "  </thead>\n",
       "  <tbody>\n",
       "    <tr>\n",
       "      <th>0</th>\n",
       "      <td>barjraj</td>\n",
       "      <td>m</td>\n",
       "      <td>indian</td>\n",
       "    </tr>\n",
       "    <tr>\n",
       "      <th>1</th>\n",
       "      <td>ramdin verma</td>\n",
       "      <td>m</td>\n",
       "      <td>indian</td>\n",
       "    </tr>\n",
       "    <tr>\n",
       "      <th>2</th>\n",
       "      <td>sharat chandran</td>\n",
       "      <td>m</td>\n",
       "      <td>indian</td>\n",
       "    </tr>\n",
       "    <tr>\n",
       "      <th>3</th>\n",
       "      <td>birender mandal</td>\n",
       "      <td>m</td>\n",
       "      <td>indian</td>\n",
       "    </tr>\n",
       "    <tr>\n",
       "      <th>4</th>\n",
       "      <td>amit</td>\n",
       "      <td>m</td>\n",
       "      <td>indian</td>\n",
       "    </tr>\n",
       "  </tbody>\n",
       "</table>\n",
       "</div>"
      ],
      "text/plain": [
       "              name gender    race\n",
       "0          barjraj      m  indian\n",
       "1     ramdin verma      m  indian\n",
       "2  sharat chandran      m  indian\n",
       "3  birender mandal      m  indian\n",
       "4             amit      m  indian"
      ]
     },
     "execution_count": 3,
     "metadata": {},
     "output_type": "execute_result"
    }
   ],
   "source": [
    "name_male.head()"
   ]
  },
  {
   "cell_type": "code",
   "execution_count": 4,
   "id": "f7a1a27b",
   "metadata": {},
   "outputs": [],
   "source": [
    "name_female =  pd.read_csv(\"D:\\VIIT\\ML\\SIH data\\SIH_Pyxis\\sai\\Indian-Female-Names.csv\")"
   ]
  },
  {
   "cell_type": "code",
   "execution_count": 5,
   "id": "73c5e3c9",
   "metadata": {},
   "outputs": [
    {
     "data": {
      "text/html": [
       "<div>\n",
       "<style scoped>\n",
       "    .dataframe tbody tr th:only-of-type {\n",
       "        vertical-align: middle;\n",
       "    }\n",
       "\n",
       "    .dataframe tbody tr th {\n",
       "        vertical-align: top;\n",
       "    }\n",
       "\n",
       "    .dataframe thead th {\n",
       "        text-align: right;\n",
       "    }\n",
       "</style>\n",
       "<table border=\"1\" class=\"dataframe\">\n",
       "  <thead>\n",
       "    <tr style=\"text-align: right;\">\n",
       "      <th></th>\n",
       "      <th>name</th>\n",
       "      <th>gender</th>\n",
       "      <th>race</th>\n",
       "    </tr>\n",
       "  </thead>\n",
       "  <tbody>\n",
       "    <tr>\n",
       "      <th>0</th>\n",
       "      <td>shivani</td>\n",
       "      <td>f</td>\n",
       "      <td>indian</td>\n",
       "    </tr>\n",
       "    <tr>\n",
       "      <th>1</th>\n",
       "      <td>isha</td>\n",
       "      <td>f</td>\n",
       "      <td>indian</td>\n",
       "    </tr>\n",
       "    <tr>\n",
       "      <th>2</th>\n",
       "      <td>smt shyani devi</td>\n",
       "      <td>f</td>\n",
       "      <td>indian</td>\n",
       "    </tr>\n",
       "    <tr>\n",
       "      <th>3</th>\n",
       "      <td>divya</td>\n",
       "      <td>f</td>\n",
       "      <td>indian</td>\n",
       "    </tr>\n",
       "    <tr>\n",
       "      <th>4</th>\n",
       "      <td>mansi</td>\n",
       "      <td>f</td>\n",
       "      <td>indian</td>\n",
       "    </tr>\n",
       "    <tr>\n",
       "      <th>...</th>\n",
       "      <td>...</td>\n",
       "      <td>...</td>\n",
       "      <td>...</td>\n",
       "    </tr>\n",
       "    <tr>\n",
       "      <th>15377</th>\n",
       "      <td>saroj devi</td>\n",
       "      <td>f</td>\n",
       "      <td>indian</td>\n",
       "    </tr>\n",
       "    <tr>\n",
       "      <th>15378</th>\n",
       "      <td>naina @ geeta</td>\n",
       "      <td>f</td>\n",
       "      <td>indian</td>\n",
       "    </tr>\n",
       "    <tr>\n",
       "      <th>15379</th>\n",
       "      <td>manju d/0 baboo lal jatav</td>\n",
       "      <td>f</td>\n",
       "      <td>indian</td>\n",
       "    </tr>\n",
       "    <tr>\n",
       "      <th>15380</th>\n",
       "      <td>shivani</td>\n",
       "      <td>f</td>\n",
       "      <td>indian</td>\n",
       "    </tr>\n",
       "    <tr>\n",
       "      <th>15381</th>\n",
       "      <td>nayna</td>\n",
       "      <td>f</td>\n",
       "      <td>indian</td>\n",
       "    </tr>\n",
       "  </tbody>\n",
       "</table>\n",
       "<p>15382 rows × 3 columns</p>\n",
       "</div>"
      ],
      "text/plain": [
       "                            name gender    race\n",
       "0                        shivani      f  indian\n",
       "1                           isha      f  indian\n",
       "2                smt shyani devi      f  indian\n",
       "3                          divya      f  indian\n",
       "4                          mansi      f  indian\n",
       "...                          ...    ...     ...\n",
       "15377                 saroj devi      f  indian\n",
       "15378              naina @ geeta      f  indian\n",
       "15379  manju d/0 baboo lal jatav      f  indian\n",
       "15380                    shivani      f  indian\n",
       "15381                      nayna      f  indian\n",
       "\n",
       "[15382 rows x 3 columns]"
      ]
     },
     "execution_count": 5,
     "metadata": {},
     "output_type": "execute_result"
    }
   ],
   "source": [
    "name_female"
   ]
  },
  {
   "cell_type": "code",
   "execution_count": 6,
   "id": "f441f68a",
   "metadata": {},
   "outputs": [],
   "source": [
    "nm = name_male[:300]"
   ]
  },
  {
   "cell_type": "code",
   "execution_count": 7,
   "id": "5ff1be01",
   "metadata": {},
   "outputs": [],
   "source": [
    "nf = name_female[:300]"
   ]
  },
  {
   "cell_type": "code",
   "execution_count": 8,
   "id": "4db31b67",
   "metadata": {},
   "outputs": [],
   "source": [
    "name = pd.concat([nm,nf])"
   ]
  },
  {
   "cell_type": "code",
   "execution_count": 9,
   "id": "37b8e233",
   "metadata": {},
   "outputs": [
    {
     "data": {
      "text/plain": [
       "pandas.core.frame.DataFrame"
      ]
     },
     "execution_count": 9,
     "metadata": {},
     "output_type": "execute_result"
    }
   ],
   "source": [
    "type(name)"
   ]
  },
  {
   "cell_type": "code",
   "execution_count": 10,
   "id": "6fabfa3b",
   "metadata": {},
   "outputs": [],
   "source": [
    "name = np.array(name)"
   ]
  },
  {
   "cell_type": "code",
   "execution_count": 11,
   "id": "81a52615",
   "metadata": {},
   "outputs": [],
   "source": [
    "name = pd.DataFrame(name,columns=[\"name\",\"gender\",\"race\"])"
   ]
  },
  {
   "cell_type": "code",
   "execution_count": 12,
   "id": "ca151ade",
   "metadata": {},
   "outputs": [
    {
     "data": {
      "text/plain": [
       "pandas.core.frame.DataFrame"
      ]
     },
     "execution_count": 12,
     "metadata": {},
     "output_type": "execute_result"
    }
   ],
   "source": [
    "type(name)"
   ]
  },
  {
   "cell_type": "code",
   "execution_count": 13,
   "id": "b1fda5c0",
   "metadata": {},
   "outputs": [],
   "source": [
    "name = name.sample(frac = 1)\n"
   ]
  },
  {
   "cell_type": "code",
   "execution_count": 14,
   "id": "6d569f50",
   "metadata": {},
   "outputs": [
    {
     "data": {
      "text/html": [
       "<div>\n",
       "<style scoped>\n",
       "    .dataframe tbody tr th:only-of-type {\n",
       "        vertical-align: middle;\n",
       "    }\n",
       "\n",
       "    .dataframe tbody tr th {\n",
       "        vertical-align: top;\n",
       "    }\n",
       "\n",
       "    .dataframe thead th {\n",
       "        text-align: right;\n",
       "    }\n",
       "</style>\n",
       "<table border=\"1\" class=\"dataframe\">\n",
       "  <thead>\n",
       "    <tr style=\"text-align: right;\">\n",
       "      <th></th>\n",
       "      <th>name</th>\n",
       "      <th>gender</th>\n",
       "      <th>race</th>\n",
       "    </tr>\n",
       "  </thead>\n",
       "  <tbody>\n",
       "    <tr>\n",
       "      <th>462</th>\n",
       "      <td>anjali</td>\n",
       "      <td>f</td>\n",
       "      <td>indian</td>\n",
       "    </tr>\n",
       "    <tr>\n",
       "      <th>115</th>\n",
       "      <td>pulkit sharma</td>\n",
       "      <td>m</td>\n",
       "      <td>indian</td>\n",
       "    </tr>\n",
       "    <tr>\n",
       "      <th>421</th>\n",
       "      <td>laxmi devi</td>\n",
       "      <td>f</td>\n",
       "      <td>indian</td>\n",
       "    </tr>\n",
       "    <tr>\n",
       "      <th>418</th>\n",
       "      <td>doly</td>\n",
       "      <td>f</td>\n",
       "      <td>indian</td>\n",
       "    </tr>\n",
       "    <tr>\n",
       "      <th>498</th>\n",
       "      <td>kajal</td>\n",
       "      <td>f</td>\n",
       "      <td>indian</td>\n",
       "    </tr>\n",
       "  </tbody>\n",
       "</table>\n",
       "</div>"
      ],
      "text/plain": [
       "              name gender    race\n",
       "462         anjali      f  indian\n",
       "115  pulkit sharma      m  indian\n",
       "421     laxmi devi      f  indian\n",
       "418           doly      f  indian\n",
       "498          kajal      f  indian"
      ]
     },
     "execution_count": 14,
     "metadata": {},
     "output_type": "execute_result"
    }
   ],
   "source": [
    "name.head()"
   ]
  },
  {
   "cell_type": "code",
   "execution_count": 15,
   "id": "f5f58a27",
   "metadata": {},
   "outputs": [],
   "source": [
    "add = random_address.real_random_address_by_state(\"CA\")"
   ]
  },
  {
   "cell_type": "code",
   "execution_count": 16,
   "id": "7e867d1f",
   "metadata": {},
   "outputs": [
    {
     "data": {
      "text/plain": [
       "{'address1': '2035 Ninth Street',\n",
       " 'address2': 'R A',\n",
       " 'city': 'Berkeley',\n",
       " 'state': 'CA',\n",
       " 'postalCode': '94710',\n",
       " 'coordinates': {'lat': 37.8676351, 'lng': -122.2938418}}"
      ]
     },
     "execution_count": 16,
     "metadata": {},
     "output_type": "execute_result"
    }
   ],
   "source": [
    "add"
   ]
  },
  {
   "cell_type": "code",
   "execution_count": 17,
   "id": "546f2c83",
   "metadata": {},
   "outputs": [],
   "source": [
    "import random"
   ]
  },
  {
   "cell_type": "code",
   "execution_count": 18,
   "id": "ad6056e2",
   "metadata": {},
   "outputs": [],
   "source": [
    "phno = []"
   ]
  },
  {
   "cell_type": "code",
   "execution_count": 19,
   "id": "05663568",
   "metadata": {},
   "outputs": [],
   "source": [
    "for i in range(600):\n",
    "    phno.append(random.randint(1000000000,9999999999))"
   ]
  },
  {
   "cell_type": "code",
   "execution_count": 20,
   "id": "71eefcb8",
   "metadata": {},
   "outputs": [],
   "source": [
    "phone_no = np.array(phno)"
   ]
  },
  {
   "cell_type": "code",
   "execution_count": 21,
   "id": "a85b55db",
   "metadata": {},
   "outputs": [],
   "source": [
    "phone_no = pd.DataFrame(phone_no,columns=[\"phone_name\"])"
   ]
  },
  {
   "cell_type": "code",
   "execution_count": 22,
   "id": "b7cfd721",
   "metadata": {},
   "outputs": [],
   "source": [
    "dob = []"
   ]
  },
  {
   "cell_type": "code",
   "execution_count": 23,
   "id": "24f661fa",
   "metadata": {},
   "outputs": [],
   "source": [
    "import pandas as pd\n",
    "import numpy as np\n",
    "from datetime import date, timedelta\n",
    "from random import choices\n",
    "test_date1, test_date2 = date(1922, 1,1 ), date(2022, 1, 1)\n",
    "K = 600\n",
    "res_dates = [test_date1]\n",
    "while test_date1 != test_date2:\n",
    "    test_date1 += timedelta(days=1)\n",
    "    res_dates.append(test_date1)\n",
    "res = choices(res_dates, k=K)\n",
    "dob.append(res)"
   ]
  },
  {
   "cell_type": "code",
   "execution_count": 24,
   "id": "301b6524",
   "metadata": {},
   "outputs": [
    {
     "data": {
      "text/html": [
       "<div>\n",
       "<style scoped>\n",
       "    .dataframe tbody tr th:only-of-type {\n",
       "        vertical-align: middle;\n",
       "    }\n",
       "\n",
       "    .dataframe tbody tr th {\n",
       "        vertical-align: top;\n",
       "    }\n",
       "\n",
       "    .dataframe thead th {\n",
       "        text-align: right;\n",
       "    }\n",
       "</style>\n",
       "<table border=\"1\" class=\"dataframe\">\n",
       "  <thead>\n",
       "    <tr style=\"text-align: right;\">\n",
       "      <th></th>\n",
       "      <th>phone_name</th>\n",
       "    </tr>\n",
       "  </thead>\n",
       "  <tbody>\n",
       "    <tr>\n",
       "      <th>0</th>\n",
       "      <td>6513761569</td>\n",
       "    </tr>\n",
       "    <tr>\n",
       "      <th>1</th>\n",
       "      <td>1104101424</td>\n",
       "    </tr>\n",
       "    <tr>\n",
       "      <th>2</th>\n",
       "      <td>6132973339</td>\n",
       "    </tr>\n",
       "    <tr>\n",
       "      <th>3</th>\n",
       "      <td>6952348538</td>\n",
       "    </tr>\n",
       "    <tr>\n",
       "      <th>4</th>\n",
       "      <td>2298045003</td>\n",
       "    </tr>\n",
       "  </tbody>\n",
       "</table>\n",
       "</div>"
      ],
      "text/plain": [
       "   phone_name\n",
       "0  6513761569\n",
       "1  1104101424\n",
       "2  6132973339\n",
       "3  6952348538\n",
       "4  2298045003"
      ]
     },
     "execution_count": 24,
     "metadata": {},
     "output_type": "execute_result"
    }
   ],
   "source": [
    "phone_no.head()"
   ]
  },
  {
   "cell_type": "code",
   "execution_count": 25,
   "id": "b83a9d4f",
   "metadata": {},
   "outputs": [],
   "source": [
    "from datetime import datetime"
   ]
  },
  {
   "cell_type": "code",
   "execution_count": 26,
   "id": "2ded2149",
   "metadata": {},
   "outputs": [],
   "source": [
    "dob_year = []\n",
    "dob_month = []\n",
    "dob_day = []\n",
    "dob_yr = []"
   ]
  },
  {
   "cell_type": "code",
   "execution_count": 27,
   "id": "5370a2e7",
   "metadata": {},
   "outputs": [],
   "source": [
    "for i in range(600):\n",
    "\n",
    "    year = dob[0][i].strftime(\"%Y\")\n",
    "    month = dob[0][i].strftime(\"%m\")\n",
    "    day = dob[0][i].strftime(\"%d\")\n",
    "    dob_yr.append(year)\n",
    "    dob_month.append(month)\n",
    "    dob_day.append(day)"
   ]
  },
  {
   "cell_type": "code",
   "execution_count": 28,
   "id": "b0ce194f",
   "metadata": {},
   "outputs": [],
   "source": [
    "dob_year = np.array(dob_yr)\n",
    "dob_month = np.array(dob_month)\n",
    "dob_day = np.array(dob_day)"
   ]
  },
  {
   "cell_type": "code",
   "execution_count": 29,
   "id": "6c0c19f4",
   "metadata": {},
   "outputs": [],
   "source": [
    "dob_year = pd.DataFrame(dob_year,columns=[\"dob_year\"])\n",
    "dob_month = pd.DataFrame(dob_month,columns=[\"dob_year\"])\n",
    "dob_day = pd.DataFrame(dob_day,columns=[\"dob_year\"])"
   ]
  },
  {
   "cell_type": "code",
   "execution_count": 30,
   "id": "d1f45a02",
   "metadata": {},
   "outputs": [
    {
     "data": {
      "text/html": [
       "<div>\n",
       "<style scoped>\n",
       "    .dataframe tbody tr th:only-of-type {\n",
       "        vertical-align: middle;\n",
       "    }\n",
       "\n",
       "    .dataframe tbody tr th {\n",
       "        vertical-align: top;\n",
       "    }\n",
       "\n",
       "    .dataframe thead th {\n",
       "        text-align: right;\n",
       "    }\n",
       "</style>\n",
       "<table border=\"1\" class=\"dataframe\">\n",
       "  <thead>\n",
       "    <tr style=\"text-align: right;\">\n",
       "      <th></th>\n",
       "      <th>dob_year</th>\n",
       "    </tr>\n",
       "  </thead>\n",
       "  <tbody>\n",
       "    <tr>\n",
       "      <th>0</th>\n",
       "      <td>1937</td>\n",
       "    </tr>\n",
       "    <tr>\n",
       "      <th>1</th>\n",
       "      <td>1933</td>\n",
       "    </tr>\n",
       "    <tr>\n",
       "      <th>2</th>\n",
       "      <td>1939</td>\n",
       "    </tr>\n",
       "    <tr>\n",
       "      <th>3</th>\n",
       "      <td>1978</td>\n",
       "    </tr>\n",
       "    <tr>\n",
       "      <th>4</th>\n",
       "      <td>2011</td>\n",
       "    </tr>\n",
       "  </tbody>\n",
       "</table>\n",
       "</div>"
      ],
      "text/plain": [
       "  dob_year\n",
       "0     1937\n",
       "1     1933\n",
       "2     1939\n",
       "3     1978\n",
       "4     2011"
      ]
     },
     "execution_count": 30,
     "metadata": {},
     "output_type": "execute_result"
    }
   ],
   "source": [
    "dob_year.head()"
   ]
  },
  {
   "cell_type": "code",
   "execution_count": 31,
   "id": "306a2509",
   "metadata": {},
   "outputs": [],
   "source": [
    "age =[]\n",
    "for i in dob_yr:\n",
    "    age.append(int((date.today().year-int(i))))"
   ]
  },
  {
   "cell_type": "code",
   "execution_count": 32,
   "id": "cd29ee8b",
   "metadata": {},
   "outputs": [
    {
     "data": {
      "text/plain": [
       "int"
      ]
     },
     "execution_count": 32,
     "metadata": {},
     "output_type": "execute_result"
    }
   ],
   "source": [
    "type(age[10])"
   ]
  },
  {
   "cell_type": "code",
   "execution_count": 33,
   "id": "6836c75e",
   "metadata": {},
   "outputs": [],
   "source": [
    "age = np.array(age)\n",
    "age = pd.DataFrame(age,columns=[\"age\"])"
   ]
  },
  {
   "cell_type": "code",
   "execution_count": 34,
   "id": "839871c5",
   "metadata": {},
   "outputs": [
    {
     "data": {
      "text/html": [
       "<div>\n",
       "<style scoped>\n",
       "    .dataframe tbody tr th:only-of-type {\n",
       "        vertical-align: middle;\n",
       "    }\n",
       "\n",
       "    .dataframe tbody tr th {\n",
       "        vertical-align: top;\n",
       "    }\n",
       "\n",
       "    .dataframe thead th {\n",
       "        text-align: right;\n",
       "    }\n",
       "</style>\n",
       "<table border=\"1\" class=\"dataframe\">\n",
       "  <thead>\n",
       "    <tr style=\"text-align: right;\">\n",
       "      <th></th>\n",
       "      <th>age</th>\n",
       "    </tr>\n",
       "  </thead>\n",
       "  <tbody>\n",
       "    <tr>\n",
       "      <th>0</th>\n",
       "      <td>85</td>\n",
       "    </tr>\n",
       "    <tr>\n",
       "      <th>1</th>\n",
       "      <td>89</td>\n",
       "    </tr>\n",
       "    <tr>\n",
       "      <th>2</th>\n",
       "      <td>83</td>\n",
       "    </tr>\n",
       "    <tr>\n",
       "      <th>3</th>\n",
       "      <td>44</td>\n",
       "    </tr>\n",
       "    <tr>\n",
       "      <th>4</th>\n",
       "      <td>11</td>\n",
       "    </tr>\n",
       "  </tbody>\n",
       "</table>\n",
       "</div>"
      ],
      "text/plain": [
       "   age\n",
       "0   85\n",
       "1   89\n",
       "2   83\n",
       "3   44\n",
       "4   11"
      ]
     },
     "execution_count": 34,
     "metadata": {},
     "output_type": "execute_result"
    }
   ],
   "source": [
    "age.head()"
   ]
  },
  {
   "cell_type": "code",
   "execution_count": 35,
   "id": "9a581f59",
   "metadata": {},
   "outputs": [],
   "source": [
    "addhar_no = []\n",
    "for i in range(600):\n",
    "    addhar_no.append(random.randint(100000000000,999999999999))\n",
    "addhar_no = np.array(addhar_no)\n",
    "addhar_no = pd.DataFrame(addhar_no,columns=[\"addhar_no\"])  "
   ]
  },
  {
   "cell_type": "code",
   "execution_count": 36,
   "id": "fa145779",
   "metadata": {},
   "outputs": [
    {
     "data": {
      "text/html": [
       "<div>\n",
       "<style scoped>\n",
       "    .dataframe tbody tr th:only-of-type {\n",
       "        vertical-align: middle;\n",
       "    }\n",
       "\n",
       "    .dataframe tbody tr th {\n",
       "        vertical-align: top;\n",
       "    }\n",
       "\n",
       "    .dataframe thead th {\n",
       "        text-align: right;\n",
       "    }\n",
       "</style>\n",
       "<table border=\"1\" class=\"dataframe\">\n",
       "  <thead>\n",
       "    <tr style=\"text-align: right;\">\n",
       "      <th></th>\n",
       "      <th>addhar_no</th>\n",
       "    </tr>\n",
       "  </thead>\n",
       "  <tbody>\n",
       "    <tr>\n",
       "      <th>0</th>\n",
       "      <td>115956685386</td>\n",
       "    </tr>\n",
       "    <tr>\n",
       "      <th>1</th>\n",
       "      <td>689873677613</td>\n",
       "    </tr>\n",
       "    <tr>\n",
       "      <th>2</th>\n",
       "      <td>676532421337</td>\n",
       "    </tr>\n",
       "    <tr>\n",
       "      <th>3</th>\n",
       "      <td>574942130484</td>\n",
       "    </tr>\n",
       "    <tr>\n",
       "      <th>4</th>\n",
       "      <td>868456471405</td>\n",
       "    </tr>\n",
       "  </tbody>\n",
       "</table>\n",
       "</div>"
      ],
      "text/plain": [
       "      addhar_no\n",
       "0  115956685386\n",
       "1  689873677613\n",
       "2  676532421337\n",
       "3  574942130484\n",
       "4  868456471405"
      ]
     },
     "execution_count": 36,
     "metadata": {},
     "output_type": "execute_result"
    }
   ],
   "source": [
    "addhar_no.head()"
   ]
  },
  {
   "cell_type": "code",
   "execution_count": 37,
   "id": "a6339fbf",
   "metadata": {},
   "outputs": [],
   "source": [
    "n = np.array(name[\"name\"])"
   ]
  },
  {
   "cell_type": "code",
   "execution_count": 38,
   "id": "001671fd",
   "metadata": {},
   "outputs": [
    {
     "data": {
      "text/plain": [
       "str"
      ]
     },
     "execution_count": 38,
     "metadata": {},
     "output_type": "execute_result"
    }
   ],
   "source": [
    "type(n[1])"
   ]
  },
  {
   "cell_type": "code",
   "execution_count": 39,
   "id": "d82fa8a4",
   "metadata": {},
   "outputs": [
    {
     "data": {
      "text/plain": [
       "'birender mandal'"
      ]
     },
     "execution_count": 39,
     "metadata": {},
     "output_type": "execute_result"
    }
   ],
   "source": [
    "name[\"name\"][3]"
   ]
  },
  {
   "cell_type": "code",
   "execution_count": 40,
   "id": "b03bde1f",
   "metadata": {},
   "outputs": [
    {
     "name": "stdout",
     "output_type": "stream",
     "text": [
      "a\n",
      "n\n",
      "j\n",
      "a\n",
      "l\n",
      "i\n",
      "p\n",
      "u\n",
      "l\n",
      "k\n",
      "i\n",
      "t\n",
      " \n",
      "s\n",
      "h\n",
      "a\n",
      "r\n",
      "m\n",
      "a\n",
      "l\n",
      "a\n",
      "x\n",
      "m\n",
      "i\n",
      " \n",
      "d\n",
      "e\n",
      "v\n",
      "i\n",
      "d\n",
      "o\n",
      "l\n",
      "y\n",
      "k\n",
      "a\n",
      "j\n",
      "a\n",
      "l\n",
      "s\n",
      "h\n",
      "e\n",
      "e\n",
      "t\n",
      "a\n",
      "l\n",
      "g\n",
      "u\n",
      "d\n",
      "d\n",
      "u\n",
      "m\n",
      "i\n",
      "n\n",
      "a\n",
      "k\n",
      "c\n",
      "h\n",
      "i\n",
      "k\n",
      "h\n",
      "u\n",
      "s\n",
      "h\n",
      "b\n",
      "u\n",
      "m\n",
      "o\n",
      "h\n",
      "d\n",
      " \n",
      "s\n",
      "h\n",
      "a\n",
      "k\n",
      "i\n",
      "b\n",
      "r\n",
      "o\n",
      "h\n",
      "i\n",
      "t\n",
      "g\n",
      "o\n",
      "p\n",
      "a\n",
      "l\n",
      " \n",
      "s\n",
      "h\n",
      "a\n",
      "r\n",
      "m\n",
      "a\n",
      "d\n",
      "u\n",
      "r\n",
      "g\n",
      "a\n",
      "r\n",
      "a\n",
      "s\n",
      "h\n",
      "i\n",
      "d\n",
      "d\n",
      "h\n",
      "a\n",
      "r\n",
      "m\n",
      "b\n",
      "i\n",
      "r\n",
      "a\n",
      "m\n",
      "a\n",
      "n\n",
      "s\n",
      "h\n",
      "i\n",
      "v\n",
      " \n",
      "k\n",
      "u\n",
      "m\n",
      "a\n",
      "r\n",
      "k\n",
      "a\n",
      "r\n",
      "i\n",
      "n\n",
      "a\n",
      " \n",
      "@\n",
      " \n",
      "k\n",
      "a\n",
      "v\n",
      "i\n",
      "t\n",
      "a\n",
      "r\n",
      "a\n",
      "j\n",
      "u\n",
      " \n",
      "@\n",
      " \n",
      "c\n",
      "h\n",
      "h\n",
      "o\n",
      "t\n",
      "u\n",
      "m\n",
      "a\n",
      "h\n",
      "a\n",
      "b\n",
      "i\n",
      "r\n",
      " \n",
      "p\n",
      "r\n",
      "a\n",
      "s\n",
      "a\n",
      "d\n",
      "a\n",
      "r\n",
      "j\n",
      "u\n",
      "n\n",
      "k\n",
      "o\n",
      "m\n",
      "a\n",
      "l\n",
      "s\n",
      "a\n",
      "g\n",
      "a\n",
      "r\n",
      "r\n",
      "a\n",
      "j\n",
      "e\n",
      "n\n",
      "d\n",
      "e\n",
      "r\n",
      "r\n",
      "a\n",
      "k\n",
      "h\n",
      "i\n",
      "a\n",
      "n\n",
      "u\n",
      "b\n",
      "h\n",
      "a\n",
      "v\n",
      " \n",
      "s\n",
      "h\n",
      "r\n",
      "i\n",
      "v\n",
      "a\n",
      "s\n",
      "t\n",
      "a\n",
      "b\n",
      "m\n",
      "a\n",
      "d\n",
      "a\n",
      "n\n",
      "r\n",
      "a\n",
      "m\n",
      "v\n",
      "a\n",
      "t\n",
      "i\n",
      "p\n",
      "o\n",
      "o\n",
      "n\n",
      "a\n",
      "m\n",
      "h\n",
      "u\n",
      "m\n",
      "a\n",
      " \n",
      "k\n",
      "h\n",
      "a\n",
      "n\n",
      "s\n",
      "h\n",
      "e\n",
      "e\n",
      "t\n",
      "a\n",
      "l\n"
     ]
    },
    {
     "ename": "TypeError",
     "evalue": "'float' object is not iterable",
     "output_type": "error",
     "traceback": [
      "\u001b[1;31m---------------------------------------------------------------------------\u001b[0m",
      "\u001b[1;31mTypeError\u001b[0m                                 Traceback (most recent call last)",
      "\u001b[1;32m~\\AppData\\Local\\Temp/ipykernel_11860/3650854796.py\u001b[0m in \u001b[0;36m<module>\u001b[1;34m\u001b[0m\n\u001b[0;32m      3\u001b[0m \u001b[1;33m\u001b[0m\u001b[0m\n\u001b[0;32m      4\u001b[0m \u001b[1;32mfor\u001b[0m \u001b[0mj\u001b[0m \u001b[1;32min\u001b[0m \u001b[0mn\u001b[0m\u001b[1;33m:\u001b[0m\u001b[1;33m\u001b[0m\u001b[1;33m\u001b[0m\u001b[0m\n\u001b[1;32m----> 5\u001b[1;33m         \u001b[1;32mfor\u001b[0m \u001b[0mi\u001b[0m \u001b[1;32min\u001b[0m \u001b[0mj\u001b[0m\u001b[1;33m:\u001b[0m\u001b[1;33m\u001b[0m\u001b[1;33m\u001b[0m\u001b[0m\n\u001b[0m\u001b[0;32m      6\u001b[0m             \u001b[0mprint\u001b[0m\u001b[1;33m(\u001b[0m\u001b[0mi\u001b[0m\u001b[1;33m)\u001b[0m\u001b[1;33m\u001b[0m\u001b[1;33m\u001b[0m\u001b[0m\n\u001b[0;32m      7\u001b[0m         \u001b[0mcounter\u001b[0m \u001b[1;33m+=\u001b[0m \u001b[1;36m1\u001b[0m\u001b[1;33m\u001b[0m\u001b[1;33m\u001b[0m\u001b[0m\n",
      "\u001b[1;31mTypeError\u001b[0m: 'float' object is not iterable"
     ]
    }
   ],
   "source": [
    "k = name[\"name\"][3]\n",
    "counter = 0\n",
    "\n",
    "for j in n:\n",
    "        for i in j:\n",
    "            print(i)\n",
    "        counter += 1   "
   ]
  },
  {
   "cell_type": "code",
   "execution_count": 41,
   "id": "1908d18b",
   "metadata": {},
   "outputs": [],
   "source": [
    "name_new = pd.read_csv(\"name_600.csv\")"
   ]
  },
  {
   "cell_type": "code",
   "execution_count": 42,
   "id": "902dcc25",
   "metadata": {},
   "outputs": [
    {
     "data": {
      "text/html": [
       "<div>\n",
       "<style scoped>\n",
       "    .dataframe tbody tr th:only-of-type {\n",
       "        vertical-align: middle;\n",
       "    }\n",
       "\n",
       "    .dataframe tbody tr th {\n",
       "        vertical-align: top;\n",
       "    }\n",
       "\n",
       "    .dataframe thead th {\n",
       "        text-align: right;\n",
       "    }\n",
       "</style>\n",
       "<table border=\"1\" class=\"dataframe\">\n",
       "  <thead>\n",
       "    <tr style=\"text-align: right;\">\n",
       "      <th></th>\n",
       "      <th>name</th>\n",
       "      <th>gender</th>\n",
       "      <th>race</th>\n",
       "    </tr>\n",
       "  </thead>\n",
       "  <tbody>\n",
       "    <tr>\n",
       "      <th>0</th>\n",
       "      <td>asha kumari</td>\n",
       "      <td>f</td>\n",
       "      <td>indian</td>\n",
       "    </tr>\n",
       "    <tr>\n",
       "      <th>1</th>\n",
       "      <td>nitin</td>\n",
       "      <td>m</td>\n",
       "      <td>indian</td>\n",
       "    </tr>\n",
       "    <tr>\n",
       "      <th>2</th>\n",
       "      <td>tripti</td>\n",
       "      <td>f</td>\n",
       "      <td>indian</td>\n",
       "    </tr>\n",
       "    <tr>\n",
       "      <th>3</th>\n",
       "      <td>som dutt</td>\n",
       "      <td>m</td>\n",
       "      <td>indian</td>\n",
       "    </tr>\n",
       "    <tr>\n",
       "      <th>4</th>\n",
       "      <td>bhagwati prasad</td>\n",
       "      <td>m</td>\n",
       "      <td>indian</td>\n",
       "    </tr>\n",
       "  </tbody>\n",
       "</table>\n",
       "</div>"
      ],
      "text/plain": [
       "              name gender    race\n",
       "0      asha kumari      f  indian\n",
       "1            nitin      m  indian\n",
       "2           tripti      f  indian\n",
       "3         som dutt      m  indian\n",
       "4  bhagwati prasad      m  indian"
      ]
     },
     "execution_count": 42,
     "metadata": {},
     "output_type": "execute_result"
    }
   ],
   "source": [
    "name_new.head()"
   ]
  },
  {
   "cell_type": "code",
   "execution_count": 43,
   "id": "f603c1ad",
   "metadata": {},
   "outputs": [],
   "source": [
    "email = pd.read_csv(\"email.csv\")"
   ]
  },
  {
   "cell_type": "code",
   "execution_count": 44,
   "id": "9358c354",
   "metadata": {},
   "outputs": [
    {
     "data": {
      "text/html": [
       "<div>\n",
       "<style scoped>\n",
       "    .dataframe tbody tr th:only-of-type {\n",
       "        vertical-align: middle;\n",
       "    }\n",
       "\n",
       "    .dataframe tbody tr th {\n",
       "        vertical-align: top;\n",
       "    }\n",
       "\n",
       "    .dataframe thead th {\n",
       "        text-align: right;\n",
       "    }\n",
       "</style>\n",
       "<table border=\"1\" class=\"dataframe\">\n",
       "  <thead>\n",
       "    <tr style=\"text-align: right;\">\n",
       "      <th></th>\n",
       "      <th>ashakumari@gmail.com</th>\n",
       "    </tr>\n",
       "  </thead>\n",
       "  <tbody>\n",
       "    <tr>\n",
       "      <th>0</th>\n",
       "      <td>nitin@gmail.com</td>\n",
       "    </tr>\n",
       "    <tr>\n",
       "      <th>1</th>\n",
       "      <td>tripti@gmail.com</td>\n",
       "    </tr>\n",
       "    <tr>\n",
       "      <th>2</th>\n",
       "      <td>somdutt@gmail.com</td>\n",
       "    </tr>\n",
       "    <tr>\n",
       "      <th>3</th>\n",
       "      <td>bhagwatiprasad@gmail.com</td>\n",
       "    </tr>\n",
       "    <tr>\n",
       "      <th>4</th>\n",
       "      <td>yognder@gmail.com</td>\n",
       "    </tr>\n",
       "  </tbody>\n",
       "</table>\n",
       "</div>"
      ],
      "text/plain": [
       "       ashakumari@gmail.com\n",
       "0           nitin@gmail.com\n",
       "1          tripti@gmail.com\n",
       "2         somdutt@gmail.com\n",
       "3  bhagwatiprasad@gmail.com\n",
       "4         yognder@gmail.com"
      ]
     },
     "execution_count": 44,
     "metadata": {},
     "output_type": "execute_result"
    }
   ],
   "source": [
    "email.head()"
   ]
  },
  {
   "cell_type": "code",
   "execution_count": 45,
   "id": "9f9ce9b7",
   "metadata": {},
   "outputs": [],
   "source": [
    "address = []"
   ]
  },
  {
   "cell_type": "code",
   "execution_count": 46,
   "id": "e903966b",
   "metadata": {},
   "outputs": [],
   "source": [
    "\n",
    "for i in range(600):\n",
    "    from faker import Faker\n",
    "    fake = Faker([\"en_IN\"])\n",
    "    temp1 =[fake.address(),fake.state()]\n",
    "    address.append(temp1)"
   ]
  },
  {
   "cell_type": "code",
   "execution_count": 47,
   "id": "0fb306ca",
   "metadata": {},
   "outputs": [],
   "source": [
    "address = np.array(address)"
   ]
  },
  {
   "cell_type": "code",
   "execution_count": 48,
   "id": "80d1a248",
   "metadata": {},
   "outputs": [],
   "source": [
    "address = pd.DataFrame(address,columns=[\"address\",\"state\"]) "
   ]
  },
  {
   "cell_type": "code",
   "execution_count": 49,
   "id": "581bd464",
   "metadata": {},
   "outputs": [
    {
     "data": {
      "text/html": [
       "<div>\n",
       "<style scoped>\n",
       "    .dataframe tbody tr th:only-of-type {\n",
       "        vertical-align: middle;\n",
       "    }\n",
       "\n",
       "    .dataframe tbody tr th {\n",
       "        vertical-align: top;\n",
       "    }\n",
       "\n",
       "    .dataframe thead th {\n",
       "        text-align: right;\n",
       "    }\n",
       "</style>\n",
       "<table border=\"1\" class=\"dataframe\">\n",
       "  <thead>\n",
       "    <tr style=\"text-align: right;\">\n",
       "      <th></th>\n",
       "      <th>address</th>\n",
       "      <th>state</th>\n",
       "    </tr>\n",
       "  </thead>\n",
       "  <tbody>\n",
       "    <tr>\n",
       "      <th>0</th>\n",
       "      <td>517, Shankar Zila, Surat-656571</td>\n",
       "      <td>Tripura</td>\n",
       "    </tr>\n",
       "    <tr>\n",
       "      <th>1</th>\n",
       "      <td>52\\nBahri Ganj, Tiruchirappalli-922389</td>\n",
       "      <td>Karnataka</td>\n",
       "    </tr>\n",
       "    <tr>\n",
       "      <th>2</th>\n",
       "      <td>18/446, Char Ganj, Allahabad-397982</td>\n",
       "      <td>West Bengal</td>\n",
       "    </tr>\n",
       "    <tr>\n",
       "      <th>3</th>\n",
       "      <td>H.No. 63\\nMaster Road\\nPanihati-911572</td>\n",
       "      <td>Rajasthan</td>\n",
       "    </tr>\n",
       "    <tr>\n",
       "      <th>4</th>\n",
       "      <td>H.No. 28, Gade Marg, Nashik-463694</td>\n",
       "      <td>Arunachal Pradesh</td>\n",
       "    </tr>\n",
       "  </tbody>\n",
       "</table>\n",
       "</div>"
      ],
      "text/plain": [
       "                                  address              state\n",
       "0         517, Shankar Zila, Surat-656571            Tripura\n",
       "1  52\\nBahri Ganj, Tiruchirappalli-922389          Karnataka\n",
       "2     18/446, Char Ganj, Allahabad-397982        West Bengal\n",
       "3  H.No. 63\\nMaster Road\\nPanihati-911572          Rajasthan\n",
       "4      H.No. 28, Gade Marg, Nashik-463694  Arunachal Pradesh"
      ]
     },
     "execution_count": 49,
     "metadata": {},
     "output_type": "execute_result"
    }
   ],
   "source": [
    "address.head()"
   ]
  },
  {
   "cell_type": "code",
   "execution_count": 50,
   "id": "f9e397c4",
   "metadata": {},
   "outputs": [],
   "source": [
    "temp = name_new[\"name\"]\n",
    "data = pd.DataFrame(temp,columns=[\"name\"]) "
   ]
  },
  {
   "cell_type": "code",
   "execution_count": 51,
   "id": "3b12ee89",
   "metadata": {},
   "outputs": [],
   "source": [
    "data[\"gender\"] = name_new[\"gender\"]"
   ]
  },
  {
   "cell_type": "code",
   "execution_count": 52,
   "id": "da7dbd7e",
   "metadata": {},
   "outputs": [],
   "source": [
    "data[\"race\"] = name_new[\"race\"]"
   ]
  },
  {
   "cell_type": "code",
   "execution_count": 53,
   "id": "22873049",
   "metadata": {},
   "outputs": [],
   "source": [
    "data[\"age\"] = age"
   ]
  },
  {
   "cell_type": "code",
   "execution_count": 54,
   "id": "00f8c692",
   "metadata": {},
   "outputs": [],
   "source": [
    "data[\"phone_no\"] = phone_no"
   ]
  },
  {
   "cell_type": "code",
   "execution_count": 55,
   "id": "95d12b6b",
   "metadata": {},
   "outputs": [],
   "source": [
    "data[\"dob_year\"] = dob_year"
   ]
  },
  {
   "cell_type": "code",
   "execution_count": 56,
   "id": "c49c3e76",
   "metadata": {},
   "outputs": [],
   "source": [
    "data[\"dob_month\"] = dob_month"
   ]
  },
  {
   "cell_type": "code",
   "execution_count": 57,
   "id": "f65fc8c1",
   "metadata": {},
   "outputs": [],
   "source": [
    "data[\"dob_day\"] = dob_day"
   ]
  },
  {
   "cell_type": "code",
   "execution_count": 58,
   "id": "438a91bf",
   "metadata": {},
   "outputs": [],
   "source": [
    "data[\"addhar_no\"] = addhar_no"
   ]
  },
  {
   "cell_type": "code",
   "execution_count": 59,
   "id": "d7a5c49c",
   "metadata": {},
   "outputs": [],
   "source": [
    "data[\"email\"] = email"
   ]
  },
  {
   "cell_type": "code",
   "execution_count": 60,
   "id": "a83b6e20",
   "metadata": {},
   "outputs": [],
   "source": [
    "data[\"address\"] = address[\"address\"]"
   ]
  },
  {
   "cell_type": "code",
   "execution_count": 61,
   "id": "4f6ba1ed",
   "metadata": {},
   "outputs": [],
   "source": [
    "data[\"state\"] = address[\"state\"]"
   ]
  },
  {
   "cell_type": "code",
   "execution_count": 62,
   "id": "413afe4a",
   "metadata": {},
   "outputs": [
    {
     "data": {
      "text/html": [
       "<div>\n",
       "<style scoped>\n",
       "    .dataframe tbody tr th:only-of-type {\n",
       "        vertical-align: middle;\n",
       "    }\n",
       "\n",
       "    .dataframe tbody tr th {\n",
       "        vertical-align: top;\n",
       "    }\n",
       "\n",
       "    .dataframe thead th {\n",
       "        text-align: right;\n",
       "    }\n",
       "</style>\n",
       "<table border=\"1\" class=\"dataframe\">\n",
       "  <thead>\n",
       "    <tr style=\"text-align: right;\">\n",
       "      <th></th>\n",
       "      <th>name</th>\n",
       "      <th>gender</th>\n",
       "      <th>race</th>\n",
       "      <th>age</th>\n",
       "      <th>phone_no</th>\n",
       "      <th>dob_year</th>\n",
       "      <th>dob_month</th>\n",
       "      <th>dob_day</th>\n",
       "      <th>addhar_no</th>\n",
       "      <th>email</th>\n",
       "      <th>address</th>\n",
       "      <th>state</th>\n",
       "    </tr>\n",
       "  </thead>\n",
       "  <tbody>\n",
       "    <tr>\n",
       "      <th>0</th>\n",
       "      <td>asha kumari</td>\n",
       "      <td>f</td>\n",
       "      <td>indian</td>\n",
       "      <td>85</td>\n",
       "      <td>6513761569</td>\n",
       "      <td>1937</td>\n",
       "      <td>07</td>\n",
       "      <td>13</td>\n",
       "      <td>115956685386</td>\n",
       "      <td>nitin@gmail.com</td>\n",
       "      <td>517, Shankar Zila, Surat-656571</td>\n",
       "      <td>Tripura</td>\n",
       "    </tr>\n",
       "    <tr>\n",
       "      <th>1</th>\n",
       "      <td>nitin</td>\n",
       "      <td>m</td>\n",
       "      <td>indian</td>\n",
       "      <td>89</td>\n",
       "      <td>1104101424</td>\n",
       "      <td>1933</td>\n",
       "      <td>10</td>\n",
       "      <td>19</td>\n",
       "      <td>689873677613</td>\n",
       "      <td>tripti@gmail.com</td>\n",
       "      <td>52\\nBahri Ganj, Tiruchirappalli-922389</td>\n",
       "      <td>Karnataka</td>\n",
       "    </tr>\n",
       "    <tr>\n",
       "      <th>2</th>\n",
       "      <td>tripti</td>\n",
       "      <td>f</td>\n",
       "      <td>indian</td>\n",
       "      <td>83</td>\n",
       "      <td>6132973339</td>\n",
       "      <td>1939</td>\n",
       "      <td>04</td>\n",
       "      <td>24</td>\n",
       "      <td>676532421337</td>\n",
       "      <td>somdutt@gmail.com</td>\n",
       "      <td>18/446, Char Ganj, Allahabad-397982</td>\n",
       "      <td>West Bengal</td>\n",
       "    </tr>\n",
       "    <tr>\n",
       "      <th>3</th>\n",
       "      <td>som dutt</td>\n",
       "      <td>m</td>\n",
       "      <td>indian</td>\n",
       "      <td>44</td>\n",
       "      <td>6952348538</td>\n",
       "      <td>1978</td>\n",
       "      <td>10</td>\n",
       "      <td>19</td>\n",
       "      <td>574942130484</td>\n",
       "      <td>bhagwatiprasad@gmail.com</td>\n",
       "      <td>H.No. 63\\nMaster Road\\nPanihati-911572</td>\n",
       "      <td>Rajasthan</td>\n",
       "    </tr>\n",
       "    <tr>\n",
       "      <th>4</th>\n",
       "      <td>bhagwati prasad</td>\n",
       "      <td>m</td>\n",
       "      <td>indian</td>\n",
       "      <td>11</td>\n",
       "      <td>2298045003</td>\n",
       "      <td>2011</td>\n",
       "      <td>08</td>\n",
       "      <td>10</td>\n",
       "      <td>868456471405</td>\n",
       "      <td>yognder@gmail.com</td>\n",
       "      <td>H.No. 28, Gade Marg, Nashik-463694</td>\n",
       "      <td>Arunachal Pradesh</td>\n",
       "    </tr>\n",
       "  </tbody>\n",
       "</table>\n",
       "</div>"
      ],
      "text/plain": [
       "              name gender    race  age    phone_no dob_year dob_month dob_day  \\\n",
       "0      asha kumari      f  indian   85  6513761569     1937        07      13   \n",
       "1            nitin      m  indian   89  1104101424     1933        10      19   \n",
       "2           tripti      f  indian   83  6132973339     1939        04      24   \n",
       "3         som dutt      m  indian   44  6952348538     1978        10      19   \n",
       "4  bhagwati prasad      m  indian   11  2298045003     2011        08      10   \n",
       "\n",
       "      addhar_no                     email  \\\n",
       "0  115956685386           nitin@gmail.com   \n",
       "1  689873677613          tripti@gmail.com   \n",
       "2  676532421337         somdutt@gmail.com   \n",
       "3  574942130484  bhagwatiprasad@gmail.com   \n",
       "4  868456471405         yognder@gmail.com   \n",
       "\n",
       "                                  address              state  \n",
       "0         517, Shankar Zila, Surat-656571            Tripura  \n",
       "1  52\\nBahri Ganj, Tiruchirappalli-922389          Karnataka  \n",
       "2     18/446, Char Ganj, Allahabad-397982        West Bengal  \n",
       "3  H.No. 63\\nMaster Road\\nPanihati-911572          Rajasthan  \n",
       "4      H.No. 28, Gade Marg, Nashik-463694  Arunachal Pradesh  "
      ]
     },
     "execution_count": 62,
     "metadata": {},
     "output_type": "execute_result"
    }
   ],
   "source": [
    "data.head()"
   ]
  },
  {
   "cell_type": "code",
   "execution_count": 63,
   "id": "d748afb8",
   "metadata": {},
   "outputs": [],
   "source": [
    "name_new.to_csv(\"name_new.csv\",index= False)"
   ]
  },
  {
   "cell_type": "code",
   "execution_count": null,
   "id": "7848c67f",
   "metadata": {},
   "outputs": [],
   "source": [
    "img_rgt_thumb = []\n",
    "img_rgt_index = []\n",
    "img_rgt_middle = []\n",
    "img_rgt_ring = []\n",
    "img_rgt_little = []\n",
    "\n",
    "img_left_thumb = []\n",
    "img_left_index = []\n",
    "img_left_middle = []\n",
    "img_left_ring = []\n",
    "img_left_little = []\n",
    "for i in range(300):\n",
    "    img_rgt_thumb.append(str(i)+\"__M_Right_thumb_finger\") \n",
    "    img_rgt_index.append(str(i)+\"__M_Right_index_finger\") \n",
    "    img_rgt_middle.append(str(i)+\"__M_Right_middle_finger\")  \n",
    "    img_rgt_ring.append(str(i)+\"__M_Right_ring_finger\")  \n",
    "    img_rgt_little.append(str(i)+\"__M_Right_little_finger\") \n",
    "    \n",
    "    img_left_thumb.append(str(i)+\"__M_Left_thumb_finger\") \n",
    "    img_left_index.append(str(i)+\"__M_Left_index_finger\") \n",
    "    img_left_middle.append(str(i)+\"__M_Left_middle_finger\")  \n",
    "    img_left_ring.append(str(i)+\"__M_Left_ring_finger\")  \n",
    "    img_left_little.append(str(i)+\"__M_Left_little_finger\")"
   ]
  },
  {
   "cell_type": "code",
   "execution_count": null,
   "id": "4911cf17",
   "metadata": {},
   "outputs": [],
   "source": [
    "for i in range(300,600):\n",
    "    img_rgt_thumb.append(str(i)+\"__F_Right_thumb_finger\") \n",
    "    img_rgt_index.append(str(i)+\"__F_Right_index_finger\") \n",
    "    img_rgt_middle.append(str(i)+\"__F_Right_middle_finger\")  \n",
    "    img_rgt_ring.append(str(i)+\"__F_Right_ring_finger\")  \n",
    "    img_rgt_little.append(str(i)+\"__F_Right_little_finger\") \n",
    "    \n",
    "    img_left_thumb.append(str(i)+\"__F_Left_thumb_finger\") \n",
    "    img_left_index.append(str(i)+\"__F_Left_index_finger\") \n",
    "    img_left_middle.append(str(i)+\"__F_Left_middle_finger\")  \n",
    "    img_left_ring.append(str(i)+\"__F_Left_ring_finger\")  \n",
    "    img_left_little.append(str(i)+\"__F_Left_little_finger\")"
   ]
  },
  {
   "cell_type": "code",
   "execution_count": null,
   "id": "028647c9",
   "metadata": {},
   "outputs": [],
   "source": [
    "data[\"img_rgt_thumb\"] = img_rgt_thumb\n",
    "data[\"img_rgt_index\"] = img_rgt_index\n",
    "data[\"img_rgt_middle\"] = img_rgt_middle\n",
    "data[\"img_rgt_ring\"] = img_rgt_ring\n",
    "data[\"img_rgt_little\"] = img_rgt_little\n",
    "data[\"img_left_thumb\"] = img_left_thumb\n",
    "data[\"img_left_index\"] = img_left_index\n",
    "data[\"img_left_middle\"] = img_left_middle\n",
    "data[\"img_left_ring\"] = img_left_ring\n",
    "data[\"img_left_little\"] = img_left_little"
   ]
  },
  {
   "cell_type": "code",
   "execution_count": null,
   "id": "e175b555",
   "metadata": {},
   "outputs": [],
   "source": [
    "data.head()"
   ]
  },
  {
   "cell_type": "code",
   "execution_count": null,
   "id": "c1226e61",
   "metadata": {},
   "outputs": [],
   "source": [
    "name_updated = pd.read_csv(\"email_copy.csv\")"
   ]
  },
  {
   "cell_type": "code",
   "execution_count": null,
   "id": "a5725fb6",
   "metadata": {},
   "outputs": [],
   "source": [
    "name_updated1 = pd.DataFrame(name_updated,columns=[\"name_updated\"])"
   ]
  },
  {
   "cell_type": "code",
   "execution_count": null,
   "id": "7693660c",
   "metadata": {},
   "outputs": [],
   "source": [
    "name_updated.head()"
   ]
  },
  {
   "cell_type": "code",
   "execution_count": null,
   "id": "f7e84214",
   "metadata": {},
   "outputs": [],
   "source": [
    "data[\"name\"] = name_updated"
   ]
  },
  {
   "cell_type": "code",
   "execution_count": null,
   "id": "b8cc1b18",
   "metadata": {},
   "outputs": [],
   "source": [
    "data.head()"
   ]
  },
  {
   "cell_type": "code",
   "execution_count": null,
   "id": "d74697b2",
   "metadata": {},
   "outputs": [],
   "source": [
    "import os "
   ]
  },
  {
   "cell_type": "code",
   "execution_count": null,
   "id": "6a56638b",
   "metadata": {},
   "outputs": [],
   "source": [
    "img = os. listdir(\"Real\")"
   ]
  },
  {
   "cell_type": "code",
   "execution_count": null,
   "id": "7e6cba3b",
   "metadata": {},
   "outputs": [],
   "source": [
    "img"
   ]
  },
  {
   "cell_type": "code",
   "execution_count": null,
   "id": "924d3574",
   "metadata": {},
   "outputs": [],
   "source": [
    "img_rgt_thumb = []\n",
    "img_rgt_index = []\n",
    "img_rgt_middle = []\n",
    "img_rgt_ring = []\n",
    "img_rgt_little = []\n",
    "\n",
    "img_left_thumb = []\n",
    "img_left_index = []\n",
    "img_left_middle = []\n",
    "img_left_ring = []\n",
    "img_left_little = []\n",
    "\n",
    "for i in range(6000):\n",
    "    if \"Left_index\" in img[i]:\n",
    "        img_left_index.append(img[i])\n",
    "    elif \"Left_little\" in img[i]:\n",
    "        img_left_little.append(img[i])\n",
    "    elif \"Left_middle\" in img[i]:\n",
    "        img_left_middle.append(img[i])    \n",
    "    elif \"Left_ring\" in img[i]:\n",
    "        img_left_ring.append(img[i])\n",
    "    elif \"Left_thumb\" in img[i]:\n",
    "        img_left_thumb.append(img[i])\n",
    "    elif \"Right_index\" in img[i]:\n",
    "        img_rgt_index.append(img[i])\n",
    "    elif \"Right_little\" in img[i]:\n",
    "        img_rgt_little.append(img[i])\n",
    "    elif \"Right_middle\" in img[i]:\n",
    "        img_rgt_middle.append(img[i])\n",
    "    elif \"Right_ring\" in img[i]:\n",
    "        img_rgt_ring.append(img[i])\n",
    "    elif \"Right_thumb\" in img[i]:\n",
    "        img_rgt_thumb.append(img[i])"
   ]
  },
  {
   "cell_type": "code",
   "execution_count": null,
   "id": "e05cf030",
   "metadata": {},
   "outputs": [],
   "source": [
    "if \"Left\" in img[0]:\n",
    "    print(\"yes\")"
   ]
  },
  {
   "cell_type": "code",
   "execution_count": null,
   "id": "3ba8d0f7",
   "metadata": {},
   "outputs": [],
   "source": [
    "data[\"img_rgt_thumb\"] = img_rgt_thumb\n",
    "data[\"img_rgt_index\"] = img_rgt_index\n",
    "data[\"img_rgt_middle\"] = img_rgt_middle\n",
    "data[\"img_rgt_ring\"] = img_rgt_ring\n",
    "data[\"img_rgt_little\"] = img_rgt_little\n",
    "data[\"img_left_thumb\"] = img_left_thumb\n",
    "data[\"img_left_index\"] = img_left_index\n",
    "data[\"img_left_middle\"] = img_left_middle\n",
    "data[\"img_left_ring\"] = img_left_ring\n",
    "data[\"img_left_little\"] = img_left_little"
   ]
  },
  {
   "cell_type": "code",
   "execution_count": null,
   "id": "c25e4050",
   "metadata": {},
   "outputs": [],
   "source": [
    "len(img_rgt_thumb)"
   ]
  },
  {
   "cell_type": "code",
   "execution_count": null,
   "id": "3637a067",
   "metadata": {},
   "outputs": [],
   "source": [
    "len(img_left_index)"
   ]
  },
  {
   "cell_type": "code",
   "execution_count": null,
   "id": "8d88914c",
   "metadata": {},
   "outputs": [],
   "source": [
    "data.head()"
   ]
  },
  {
   "cell_type": "code",
   "execution_count": null,
   "id": "d386b23f",
   "metadata": {},
   "outputs": [],
   "source": [
    "data.to_csv(\"data.csv\",index=False)"
   ]
  },
  {
   "cell_type": "code",
   "execution_count": null,
   "id": "64eff130",
   "metadata": {},
   "outputs": [],
   "source": [
    "data = pd.read_csv(\"data.csv\")"
   ]
  },
  {
   "cell_type": "code",
   "execution_count": null,
   "id": "195b738e",
   "metadata": {},
   "outputs": [],
   "source": [
    "data.head()"
   ]
  }
 ],
 "metadata": {
  "kernelspec": {
   "display_name": "Python 3",
   "language": "python",
   "name": "python3"
  },
  "language_info": {
   "codemirror_mode": {
    "name": "ipython",
    "version": 3
   },
   "file_extension": ".py",
   "mimetype": "text/x-python",
   "name": "python",
   "nbconvert_exporter": "python",
   "pygments_lexer": "ipython3",
   "version": "3.8.8"
  },
  "vscode": {
   "interpreter": {
    "hash": "ad2bdc8ecc057115af97d19610ffacc2b4e99fae6737bb82f5d7fb13d2f2c186"
   }
  }
 },
 "nbformat": 4,
 "nbformat_minor": 5
}
